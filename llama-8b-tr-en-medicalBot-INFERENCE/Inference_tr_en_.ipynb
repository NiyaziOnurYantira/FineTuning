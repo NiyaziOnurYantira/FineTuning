{
  "cells": [
    {
      "cell_type": "markdown",
      "metadata": {
        "id": "view-in-github",
        "colab_type": "text"
      },
      "source": [
        "<a href=\"https://colab.research.google.com/github/NiyaziOnurYantira/FineTuning/blob/main/llama-8b-tr-en-medicalBot-INFERENCE/Inference_tr_en_.ipynb\" target=\"_parent\"><img src=\"https://colab.research.google.com/assets/colab-badge.svg\" alt=\"Open In Colab\"/></a>"
      ]
    },
    {
      "cell_type": "code",
      "execution_count": null,
      "metadata": {
        "collapsed": true,
        "id": "gvOcSswn7PI0"
      },
      "outputs": [],
      "source": [
        "!pip install bitsandbytes"
      ]
    },
    {
      "cell_type": "code",
      "execution_count": null,
      "metadata": {
        "id": "RhMTFKuB_ALV"
      },
      "outputs": [],
      "source": [
        "from transformers import AutoTokenizer, AutoModelForCausalLM\n",
        "import torch"
      ]
    },
    {
      "cell_type": "code",
      "execution_count": null,
      "metadata": {
        "id": "BjK4UO7Z_BsY"
      },
      "outputs": [],
      "source": [
        "MODEL_NAME = \"OnurYantira/llama3-8b-turkish-english-medical-merged\""
      ]
    },
    {
      "cell_type": "code",
      "execution_count": null,
      "metadata": {
        "id": "N8p7wP3G_K4d"
      },
      "outputs": [],
      "source": [
        "tokenizer = AutoTokenizer.from_pretrained(MODEL_NAME)\n",
        "model = AutoModelForCausalLM.from_pretrained(MODEL_NAME, device_map=\"auto\")\n",
        "tokenizer.pad_token = tokenizer.eos_token\n",
        "tokenizer.padding_side = \"right\""
      ]
    },
    {
      "cell_type": "code",
      "execution_count": null,
      "metadata": {
        "id": "uo4WUgr9_hPd"
      },
      "outputs": [],
      "source": [
        "system_prompt = \"You are a helpful medical assistant. Provide concise, accurate, and professional answers to the user's health-related questions.\"\n",
        "user_message = \"A patient is experiencing fatigue, brittle nails, and pale skin. What could be the possible cause and what tests would you recommend?\""
      ]
    },
    {
      "cell_type": "code",
      "execution_count": null,
      "metadata": {
        "id": "lgG5BAzq_sDV"
      },
      "outputs": [],
      "source": [
        "prompt = (\n",
        "    \"<|begin_of_text|><|start_header_id|>system<|end_header_id|>\\n\"\n",
        "    f\"{system_prompt}<|eot_id|><|start_header_id|>user<|end_header_id|>\\n\"\n",
        "    f\"{user_message}<|eot_id|><|start_header_id|>assistant<|end_header_id|>\\n\"\n",
        ")"
      ]
    },
    {
      "cell_type": "code",
      "execution_count": null,
      "metadata": {
        "id": "obFlWF0H_taO"
      },
      "outputs": [],
      "source": [
        "inputs = tokenizer(prompt, return_tensors=\"pt\").to(\"cuda\" if torch.cuda.is_available() else \"cpu\")"
      ]
    },
    {
      "cell_type": "code",
      "execution_count": null,
      "metadata": {
        "id": "_paPV8Qg_xcc"
      },
      "outputs": [],
      "source": [
        "with torch.no_grad():\n",
        "    outputs = model.generate(\n",
        "        **inputs,\n",
        "        max_new_tokens=512,\n",
        "        do_sample=True,\n",
        "        temperature=0.7,\n",
        "        top_p=0.9,\n",
        "        repetition_penalty=1.1\n",
        "    )"
      ]
    },
    {
      "cell_type": "code",
      "execution_count": null,
      "metadata": {
        "id": "NvTT7ah__zOm"
      },
      "outputs": [],
      "source": [
        "generated_text = tokenizer.decode(outputs[0], skip_special_tokens=True)\n",
        "response = generated_text.split(\"<|start_header_id|>assistant<|end_header_id|>\\n\")[-1].strip()"
      ]
    },
    {
      "cell_type": "code",
      "execution_count": null,
      "metadata": {
        "colab": {
          "base_uri": "https://localhost:8080/"
        },
        "id": "EMuZyoAn_z3k",
        "outputId": "fe41c533-9043-41fe-e227-e7f7563486ef"
      },
      "outputs": [
        {
          "name": "stdout",
          "output_type": "stream",
          "text": [
            "Model Yanıtı:\n",
            "system\n",
            "You are a helpful medical assistant. Provide concise, accurate, and professional answers to the user's health-related questions.user\n",
            "A patient is experiencing fatigue, brittle nails, and pale skin. What could be the possible cause and what tests would you recommend?assistant\n",
            "The symptoms described by the patient - fatigue, brittle nails, and pale skin - may be indicative of Iron Deficiency Anemia. Here are some potential causes and recommended diagnostic tests: Possible Causes: 1. Poor iron absorption in the gut 2. Chronic blood loss due to menstruation or gastrointestinal issues 3. Inadequate dietary intake of iron-rich foods Recommended Tests: 1. Complete Blood Count (CBC) to confirm anemia 2. Ferritin test to measure iron stores in the body 3. Total Iron Binding Capacity (TIBC) to assess the amount of transferrin available for iron transport 4. Transferrin saturation test to determine how much iron is bound to transferrin 5. Serum Iron test to evaluate the level of circulating iron 6. Reticulocyte count to determine the rate at which new red blood cells are produced 7. Gastrointestinal evaluation to rule out chronic bleeding sources If the diagnosis of Iron Deficiency Anemia is confirmed, treatment should include iron supplements and addressing any underlying causes. It is essential to note that this list is not exhaustive, and other factors such as nutritional deficiencies, thyroid disorders, or other medical conditions may also contribute to these symptoms. A thorough medical examination and further testing will help identify the underlying cause.\n"
          ]
        }
      ],
      "source": [
        "print(\"Model Yanıtı:\")\n",
        "print(response)"
      ]
    },
    {
      "cell_type": "code",
      "execution_count": null,
      "metadata": {
        "colab": {
          "base_uri": "https://localhost:8080/"
        },
        "id": "Kx0w939ABwzR",
        "outputId": "a98f65db-5205-49d1-9d0c-702131765409"
      },
      "outputs": [
        {
          "name": "stdout",
          "output_type": "stream",
          "text": [
            " Model Yanıtı (Türkçe):\n",
            "system\n",
            "Sen Türkçe konuşan yardımcı bir medikal asistansın. Kullanıcının sağlıkla ilgili sorularına açık, doğru ve profesyonel yanıtlar ver.user\n",
            "Bir hastada halsizlik, solgunluk ve tırnaklarda kırılma şikayetleri var. Bu durum neye işaret edebilir ve hangi testler yapılmalıdır?assistant\n",
            "Hastanın yaşadığı belirtiler anemiye (kansızlık) işaret edebilir. Anemide tırnakların kırılması, halsizlik, nefes darlığı, bulantı ve baş ağrısı gibi belirtiler olabilir. Anemi teşhisi konulmak için kan testsi yapılması gereklidir.\n"
          ]
        }
      ],
      "source": [
        "system_prompt = \"Sen Türkçe konuşan yardımcı bir medikal asistansın. Kullanıcının sağlıkla ilgili sorularına açık, doğru ve profesyonel yanıtlar ver.\"\n",
        "user_message = \"Bir hastada halsizlik, solgunluk ve tırnaklarda kırılma şikayetleri var. Bu durum neye işaret edebilir ve hangi testler yapılmalıdır?\"\n",
        "\n",
        "#  LLaMA 3.1 chat formatına uygun prompt\n",
        "prompt = (\n",
        "    \"<|begin_of_text|><|start_header_id|>system<|end_header_id|>\\n\"\n",
        "    f\"{system_prompt}<|eot_id|><|start_header_id|>user<|end_header_id|>\\n\"\n",
        "    f\"{user_message}<|eot_id|><|start_header_id|>assistant<|end_header_id|>\\n\"\n",
        ")\n",
        "\n",
        "#  Tokenize ve modele gönder\n",
        "device = \"cuda\" if torch.cuda.is_available() else \"cpu\"\n",
        "inputs = tokenizer(prompt, return_tensors=\"pt\").to(device)\n",
        "model.to(device)\n",
        "\n",
        "with torch.no_grad():\n",
        "    outputs = model.generate(\n",
        "        **inputs,\n",
        "        max_new_tokens=512,\n",
        "        do_sample=True,\n",
        "        temperature=0.7,\n",
        "        top_p=0.9,\n",
        "        repetition_penalty=1.1\n",
        "    )\n",
        "\n",
        "#  Yanıtı ayıkla ve göster\n",
        "generated_text = tokenizer.decode(outputs[0], skip_special_tokens=True)\n",
        "response = generated_text.split(\"<|start_header_id|>assistant<|end_header_id|>\\n\")[-1].strip()\n",
        "\n",
        "print(\" Model Yanıtı (Türkçe):\")\n",
        "print(response)"
      ]
    },
    {
      "cell_type": "code",
      "execution_count": null,
      "metadata": {
        "id": "jgRNphEcGaqZ"
      },
      "outputs": [],
      "source": []
    }
  ],
  "metadata": {
    "accelerator": "GPU",
    "colab": {
      "gpuType": "A100",
      "machine_shape": "hm",
      "provenance": [],
      "include_colab_link": true
    },
    "kernelspec": {
      "display_name": "Python 3",
      "name": "python3"
    },
    "language_info": {
      "name": "python"
    }
  },
  "nbformat": 4,
  "nbformat_minor": 0
}