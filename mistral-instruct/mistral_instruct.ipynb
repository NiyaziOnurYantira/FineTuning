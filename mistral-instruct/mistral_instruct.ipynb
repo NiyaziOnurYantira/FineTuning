{
  "nbformat": 4,
  "nbformat_minor": 0,
  "metadata": {
    "colab": {
      "provenance": [],
      "gpuType": "T4",
      "include_colab_link": true
    },
    "kernelspec": {
      "name": "python3",
      "display_name": "Python 3"
    },
    "language_info": {
      "name": "python"
    },
    "accelerator": "GPU"
  },
  "cells": [
    {
      "cell_type": "markdown",
      "metadata": {
        "id": "view-in-github",
        "colab_type": "text"
      },
      "source": [
        "<a href=\"https://colab.research.google.com/github/NiyaziOnurYantira/FineTuning/blob/main/mistral-instruct/mistral_instruct.ipynb\" target=\"_parent\"><img src=\"https://colab.research.google.com/assets/colab-badge.svg\" alt=\"Open In Colab\"/></a>"
      ]
    },
    {
      "cell_type": "code",
      "execution_count": null,
      "metadata": {
        "id": "WrZ_gPDDJ5pb"
      },
      "outputs": [],
      "source": [
        "# pip installs\n",
        "\n",
        "!pip install -q datasets peft requests torch bitsandbytes transformers trl accelerate sentencepiece matplotlib"
      ]
    },
    {
      "cell_type": "code",
      "source": [
        "# imports\n",
        "\n",
        "import os\n",
        "import re\n",
        "import math\n",
        "from tqdm import tqdm\n",
        "from google.colab import userdata\n",
        "from huggingface_hub import login\n",
        "import torch\n",
        "import torch.nn.functional as F\n",
        "import transformers\n",
        "from transformers import AutoModelForCausalLM, AutoTokenizer, BitsAndBytesConfig, set_seed\n",
        "from datasets import load_dataset, Dataset, DatasetDict\n",
        "from datetime import datetime\n",
        "from peft import PeftModel\n",
        "import matplotlib.pyplot as plt"
      ],
      "metadata": {
        "id": "t1NPBx5EKH7d"
      },
      "execution_count": null,
      "outputs": []
    },
    {
      "cell_type": "code",
      "source": [
        "# Constants\n",
        "\n",
        "BASE_MODEL =  \"mistralai/Mistral-7B-Instruct-v0.3\"\n",
        "PROJECT_NAME = \"medical-bot-Mistral-7B-Instruct-v0.3\"\n",
        "HF_USER = \"OnurYantira\" # your HF name here! Or use mine if you just want to reproduce my results.\n",
        "\n",
        "# The run itself\n",
        "\n",
        "RUN_NAME = \"2025-04-07_08.44.40\"\n",
        "PROJECT_RUN_NAME = f\"{PROJECT_NAME}-{RUN_NAME}\"\n",
        "REVISION = None # or REVISION = None\n",
        "FINETUNED_MODEL = f\"{HF_USER}/{PROJECT_RUN_NAME}\"\n",
        "\n",
        "# Uncomment this line if you wish to use my model\n",
        "# FINETUNED_MODEL = f\"ed-donner/{PROJECT_RUN_NAME}\"\n",
        "\n",
        "# Data\n",
        "\n",
        "DATASET_NAME = f\"ruslanmv/ai-medical-chatbot\"\n",
        "# Or just use the one I've uploaded\n",
        "# DATASET_NAME = \"ed-donner/pricer-data\"\n",
        "\n",
        "# Hyperparameters for QLoRA\n",
        "\n",
        "QUANT_4_BIT = True\n",
        "\n",
        "%matplotlib inline\n",
        "\n",
        "# Used for writing to output in color\n",
        "\n",
        "GREEN = \"\\033[92m\"\n",
        "YELLOW = \"\\033[93m\"\n",
        "RED = \"\\033[91m\"\n",
        "RESET = \"\\033[0m\"\n",
        "COLOR_MAP = {\"red\":RED, \"orange\": YELLOW, \"green\": GREEN}"
      ],
      "metadata": {
        "id": "E-iQt1CNKK9J"
      },
      "execution_count": null,
      "outputs": []
    },
    {
      "cell_type": "code",
      "source": [
        "# Log in to HuggingFace\n",
        "\n",
        "hf_token = userdata.get('HF_TOKEN')\n",
        "login(hf_token, add_to_git_credential=True)"
      ],
      "metadata": {
        "id": "GRqhdvdrKoxu"
      },
      "execution_count": null,
      "outputs": []
    },
    {
      "cell_type": "code",
      "source": [
        "dataset = load_dataset(DATASET_NAME)\n",
        "train = dataset['train']"
      ],
      "metadata": {
        "id": "jL5th5t1Ksai"
      },
      "execution_count": null,
      "outputs": []
    },
    {
      "cell_type": "code",
      "source": [
        "train = train.shuffle(seed=42).select(range(5000))\n",
        "test_indices = train[4000:5000]  # İlk 1000 satır test olacak\n",
        "train_indices = train[:4000]\n",
        "\n",
        "# Test ve eğitim veri kümesini belirleyecek indeksleri oluştur\n",
        "test_indices = list(range(4000, 5000))\n",
        "train_indices = list(range(4000))  # 0'dan 3999'a kadar olan indeksler\n",
        "\n",
        "# Yeni veri kümelerini oluştur\n",
        "test = train.select(test_indices)\n",
        "train = train.select(train_indices)\n",
        "\n",
        "# Sonuçları kontrol et\n",
        "print(f\"Yeni Train Dataset Boyutu: {len(train)}\")\n",
        "print(f\"Yeni Test Dataset Boyutu: {len(test)}\")"
      ],
      "metadata": {
        "id": "QKrseTggKv1l"
      },
      "execution_count": null,
      "outputs": []
    },
    {
      "cell_type": "code",
      "source": [
        "# pick the right quantization (thank you Robert M. for spotting the bug with the 8 bit version!)\n",
        "\n",
        "if QUANT_4_BIT:\n",
        "  quant_config = BitsAndBytesConfig(\n",
        "    load_in_4bit=True,\n",
        "    bnb_4bit_use_double_quant=True,\n",
        "    bnb_4bit_compute_dtype=torch.bfloat16,\n",
        "    bnb_4bit_quant_type=\"nf4\",\n",
        "  )\n",
        "else:\n",
        "  quant_config = BitsAndBytesConfig(\n",
        "    load_in_8bit=True,\n",
        "    bnb_8bit_compute_dtype=torch.bfloat16\n",
        "  )"
      ],
      "metadata": {
        "id": "FQXCqr0sKyfI"
      },
      "execution_count": null,
      "outputs": []
    },
    {
      "cell_type": "code",
      "source": [
        "QUANT_4_BIT = True"
      ],
      "metadata": {
        "id": "ePPbE7l2Kz7B"
      },
      "execution_count": null,
      "outputs": []
    },
    {
      "cell_type": "code",
      "source": [
        "# Load the Tokenizer and the Model\n",
        "\n",
        "tokenizer = AutoTokenizer.from_pretrained(BASE_MODEL, trust_remote_code=True)\n",
        "tokenizer.pad_token = tokenizer.eos_token\n",
        "tokenizer.padding_side = \"right\"\n",
        "\n",
        "base_model = AutoModelForCausalLM.from_pretrained(\n",
        "    BASE_MODEL,\n",
        "    quantization_config=quant_config,\n",
        "    device_map=\"auto\",\n",
        ")\n",
        "base_model.generation_config.pad_token_id = tokenizer.pad_token_id\n",
        "\n",
        "# Load the fine-tuned model with PEFT\n",
        "if REVISION:\n",
        "  fine_tuned_model = PeftModel.from_pretrained(base_model, FINETUNED_MODEL, revision=REVISION)\n",
        "else:\n",
        "  fine_tuned_model = PeftModel.from_pretrained(base_model, FINETUNED_MODEL)\n",
        "\n",
        "\n",
        "print(f\"Memory footprint: {fine_tuned_model.get_memory_footprint() / 1e6:.1f} MB\")"
      ],
      "metadata": {
        "id": "t0XBRLakK3_n"
      },
      "execution_count": null,
      "outputs": []
    },
    {
      "cell_type": "code",
      "source": [
        "import torch\n",
        "import re\n",
        "from transformers import TextIteratorStreamer\n",
        "from threading import Thread\n",
        "\n",
        "# Sistem mesajı\n",
        "chat_history = [\n",
        "    {\"role\": \"system\", \"content\": \"You are OnurMedical Bot, a knowledgeable and friendly medical assistant.\"}\n",
        "]\n",
        "\n",
        "def generate_response(new_user_input, chat_history, model, tokenizer, max_new_tokens=200):\n",
        "    chat_history.append({\"role\": \"user\", \"content\": new_user_input})\n",
        "\n",
        "    # Chat geçmişini sistem mesajı dahil olarak hazırla\n",
        "    chat_to_format = chat_history\n",
        "\n",
        "    formatted_prompt = tokenizer.apply_chat_template(\n",
        "        chat_to_format,\n",
        "        tokenize=False,\n",
        "        add_generation_prompt=True,\n",
        "        add_special_tokens=False\n",
        "    )\n",
        "\n",
        "    # Tokenize\n",
        "    inputs = tokenizer(formatted_prompt, return_tensors=\"pt\").to(\"cuda\")\n",
        "\n",
        "    # Streamer'ı başlat\n",
        "    streamer = TextIteratorStreamer(tokenizer, skip_prompt=True, skip_special_tokens=True)\n",
        "\n",
        "    # Model generate işlemi ayrı thread'de başlatılır\n",
        "    generation_kwargs = dict(\n",
        "        **inputs,\n",
        "        max_new_tokens=max_new_tokens,\n",
        "        streamer=streamer,\n",
        "        do_sample=False,\n",
        "        temperature=0.7\n",
        "    )\n",
        "    thread = Thread(target=model.generate, kwargs=generation_kwargs)\n",
        "    thread.start()\n",
        "\n",
        "    # Stream edilen cevabı topla\n",
        "    streamed_tokens = \"\"\n",
        "    for new_text in streamer:\n",
        "        streamed_tokens += new_text\n",
        "\n",
        "    # Assistant cevabını temizle\n",
        "    is_first_response = len([m for m in chat_history if m[\"role\"] == \"assistant\"]) == 0\n",
        "    if not is_first_response:\n",
        "        streamed_tokens = re.sub(\n",
        "            r\"^(Hello, I am OnurMedicalBot, a knowledgeable and friendly medical assistant\\. I understand your concern\\.?\\s*)\",\n",
        "            \"\", streamed_tokens,\n",
        "            flags=re.IGNORECASE\n",
        "        ).strip()\n",
        "\n",
        "    # Temizlenmiş çıktıyı yazdır\n",
        "    print(f\"\\nOnurMedical Bot: {streamed_tokens}\")\n",
        "\n",
        "    # Sohbet geçmişine ekle\n",
        "    chat_history.append({\"role\": \"assistant\", \"content\": streamed_tokens})\n",
        "\n",
        "\n",
        "# Ana döngü\n",
        "while True:\n",
        "    user_input = input(\"\\nUser: \")\n",
        "    if user_input.lower() in [\"quit\", \"exit\"]:\n",
        "        print(\"Sohbet sonlandırıldı.\")\n",
        "        break\n",
        "\n",
        "    generate_response(user_input, chat_history, fine_tuned_model, tokenizer)\n"
      ],
      "metadata": {
        "colab": {
          "base_uri": "https://localhost:8080/"
        },
        "id": "NAoeOS0oc2PZ",
        "outputId": "f0e7ee3c-f56e-4628-dd0c-e7a8c50b2460"
      },
      "execution_count": null,
      "outputs": [
        {
          "output_type": "stream",
          "name": "stdout",
          "text": [
            "\n",
            "User: My knee hurts after sports. What do you suggest I do temporarily\n",
            "\n",
            "OnurMedical Bot: Hello, I am OnurMedicalBot, a knowledgeable and friendly medical assistant. I understand your concern. You should take a rest for a few days and apply ice packs on the affected area. You can also take painkillers like ibuprofen or paracetamol. If the pain persists, you should consult a doctor and get an X-ray done. Hope I have answered your query. Let me know if I can assist you further. Regards, OnurMedicalBot, a knowledgeable and friendly medical assistant.\n",
            "\n",
            "User: How do I know if it's a ligament injury?\n",
            "\n",
            "OnurMedical Bot: If you have a ligament injury, you will have pain, swelling, and difficulty in moving the joint. You should consult a doctor and get an X-ray done. Hope I have answered your query. Let me know if I can assist you further. Regards, OnurMedicalBot, a knowledgeable and friendly medical assistant.\n",
            "\n",
            "User: what do you reccomend?\n",
            "\n",
            "OnurMedical Bot: You should take a rest for a few days and apply ice packs on the affected area. You can also take painkillers like ibuprofen or paracetamol. If the pain persists, you should consult a doctor and get an X-ray done. Hope I have answered your query. Let me know if I can assist you further. Regards, OnurMedicalBot, a knowledgeable and friendly medical assistant.\n",
            "\n",
            "User: exit\n",
            "Sohbet sonlandırıldı.\n"
          ]
        }
      ]
    }
  ]
}