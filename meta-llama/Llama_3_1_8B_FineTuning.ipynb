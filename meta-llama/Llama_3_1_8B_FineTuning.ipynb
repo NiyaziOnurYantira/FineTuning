{
  "nbformat": 4,
  "nbformat_minor": 0,
  "metadata": {
    "colab": {
      "provenance": [],
      "gpuType": "T4",
      "include_colab_link": true
    },
    "kernelspec": {
      "name": "python3",
      "display_name": "Python 3"
    },
    "language_info": {
      "name": "python"
    },
    "accelerator": "GPU"
  },
  "cells": [
    {
      "cell_type": "markdown",
      "metadata": {
        "id": "view-in-github",
        "colab_type": "text"
      },
      "source": [
        "<a href=\"https://colab.research.google.com/github/NiyaziOnurYantira/FineTuning/blob/main/meta-llama/Llama_3_1_8B_FineTuning.ipynb\" target=\"_parent\"><img src=\"https://colab.research.google.com/assets/colab-badge.svg\" alt=\"Open In Colab\"/></a>"
      ]
    },
    {
      "cell_type": "code",
      "execution_count": null,
      "metadata": {
        "id": "Pk_BQgvZtIuo"
      },
      "outputs": [],
      "source": [
        "# pip installs\n",
        "\n",
        "!pip install -q datasets peft requests torch bitsandbytes transformers trl accelerate sentencepiece matplotlib"
      ]
    },
    {
      "cell_type": "code",
      "source": [
        "# imports\n",
        "\n",
        "import os\n",
        "import re\n",
        "import math\n",
        "from tqdm import tqdm\n",
        "from google.colab import userdata\n",
        "from huggingface_hub import login\n",
        "import torch\n",
        "import torch.nn.functional as F\n",
        "import transformers\n",
        "from transformers import AutoModelForCausalLM, AutoTokenizer, BitsAndBytesConfig, set_seed\n",
        "from datasets import load_dataset, Dataset, DatasetDict\n",
        "from datetime import datetime\n",
        "from peft import PeftModel\n",
        "import matplotlib.pyplot as plt"
      ],
      "metadata": {
        "id": "ug37QYyXuh26"
      },
      "execution_count": null,
      "outputs": []
    },
    {
      "cell_type": "code",
      "source": [
        "# Constants\n",
        "\n",
        "BASE_MODEL = \"meta-llama/Llama-3.1-8B\"\n",
        "PROJECT_NAME = \"llama-medical-bot\"\n",
        "HF_USER = \"OnurYantira\" # your HF name here! Or use mine if you just want to reproduce my results.\n",
        "\n",
        "# The run itself\n",
        "\n",
        "RUN_NAME = \"2025-04-04_11.07.25\"\n",
        "PROJECT_RUN_NAME = f\"{PROJECT_NAME}-{RUN_NAME}\"\n",
        "REVISION = None # or REVISION = None\n",
        "FINETUNED_MODEL = f\"{HF_USER}/{PROJECT_RUN_NAME}\"\n",
        "\n",
        "\n",
        "\n",
        "# Data\n",
        "\n",
        "DATASET_NAME = f\"antareepdey/Medical_chat_Llama-chat-template\"\n",
        "\n",
        "# Hyperparameters for QLoRA\n",
        "\n",
        "QUANT_4_BIT = True\n",
        "\n",
        "%matplotlib inline\n",
        "\n"
      ],
      "metadata": {
        "id": "Ngr5spNiuo_p"
      },
      "execution_count": null,
      "outputs": []
    },
    {
      "cell_type": "code",
      "source": [
        "# Log in to HuggingFace\n",
        "\n",
        "hf_token = userdata.get('HF_TOKEN')\n",
        "login(hf_token, add_to_git_credential=True)"
      ],
      "metadata": {
        "id": "Z57x0YdSw4MV"
      },
      "execution_count": null,
      "outputs": []
    },
    {
      "cell_type": "code",
      "source": [
        "dataset = load_dataset(DATASET_NAME)\n",
        "train = dataset['train']"
      ],
      "metadata": {
        "id": "JpLZGaNsxD_6"
      },
      "execution_count": null,
      "outputs": []
    },
    {
      "cell_type": "code",
      "source": [
        "train = train.shuffle(seed=42).select(range(5000))\n",
        "test_indices = train[4000:5000]  # İlk 1000 satır test olacak\n",
        "train_indices = train[:4000]\n",
        "\n",
        "# Test ve eğitim veri kümesini belirleyecek indeksleri oluştur\n",
        "test_indices = list(range(4000, 5000))\n",
        "train_indices = list(range(4000))  # 0'dan 3999'a kadar olan indeksler\n",
        "\n",
        "# Yeni veri kümelerini oluştur\n",
        "test = train.select(test_indices)\n",
        "train = train.select(train_indices)\n",
        "\n",
        "# Sonuçları kontrol et\n",
        "print(f\"Yeni Train Dataset Boyutu: {len(train)}\")\n",
        "print(f\"Yeni Test Dataset Boyutu: {len(test)}\")"
      ],
      "metadata": {
        "id": "_-eWYPjUxHi9"
      },
      "execution_count": null,
      "outputs": []
    },
    {
      "cell_type": "code",
      "source": [
        "test[0]"
      ],
      "metadata": {
        "id": "WdrsvisVxLMH"
      },
      "execution_count": null,
      "outputs": []
    },
    {
      "cell_type": "code",
      "source": [
        "# pick the right quantization (thank you Robert M. for spotting the bug with the 8 bit version!)\n",
        "\n",
        "if QUANT_4_BIT:\n",
        "  quant_config = BitsAndBytesConfig(\n",
        "    load_in_4bit=True,\n",
        "    bnb_4bit_use_double_quant=True,\n",
        "    bnb_4bit_compute_dtype=torch.bfloat16,\n",
        "    bnb_4bit_quant_type=\"nf4\",\n",
        "  )\n",
        "else:\n",
        "  quant_config = BitsAndBytesConfig(\n",
        "    load_in_8bit=True,\n",
        "    bnb_8bit_compute_dtype=torch.bfloat16\n",
        "  )"
      ],
      "metadata": {
        "id": "K4mSKkZjxLZ2"
      },
      "execution_count": null,
      "outputs": []
    },
    {
      "cell_type": "code",
      "source": [
        "QUANT_4_BIT = True"
      ],
      "metadata": {
        "id": "YsJQaMRexPS6"
      },
      "execution_count": null,
      "outputs": []
    },
    {
      "cell_type": "code",
      "source": [
        "quant_config"
      ],
      "metadata": {
        "id": "1V-4twF9xQRz"
      },
      "execution_count": null,
      "outputs": []
    },
    {
      "cell_type": "code",
      "source": [
        "# Load the Tokenizer and the Model\n",
        "\n",
        "tokenizer = AutoTokenizer.from_pretrained(BASE_MODEL, trust_remote_code=True)\n",
        "tokenizer.pad_token = tokenizer.eos_token\n",
        "tokenizer.padding_side = \"right\"\n",
        "\n",
        "base_model = AutoModelForCausalLM.from_pretrained(\n",
        "    BASE_MODEL,\n",
        "    quantization_config=quant_config,\n",
        "    device_map=\"auto\",\n",
        ")\n",
        "base_model.generation_config.pad_token_id = tokenizer.pad_token_id\n",
        "\n",
        "# Load the fine-tuned model with PEFT\n",
        "if REVISION:\n",
        "  fine_tuned_model = PeftModel.from_pretrained(base_model, FINETUNED_MODEL, revision=REVISION)\n",
        "else:\n",
        "  fine_tuned_model = PeftModel.from_pretrained(base_model, FINETUNED_MODEL)\n",
        "\n",
        "\n",
        "print(f\"Memory footprint: {fine_tuned_model.get_memory_footprint() / 1e6:.1f} MB\")"
      ],
      "metadata": {
        "id": "8hSTKFbYxRK_"
      },
      "execution_count": null,
      "outputs": []
    },
    {
      "cell_type": "code",
      "source": [
        "fine_tuned_model"
      ],
      "metadata": {
        "id": "IFzZp5VBxSU2"
      },
      "execution_count": null,
      "outputs": []
    },
    {
      "cell_type": "code",
      "source": [
        "fine_tuned_model = fine_tuned_model.to(\"cuda\")\n"
      ],
      "metadata": {
        "id": "FXEft6xdyjXS"
      },
      "execution_count": null,
      "outputs": []
    },
    {
      "cell_type": "code",
      "source": [
        "system_prompt = \"You are a medical chat bot. Keep your answers clear and concise. Respond in English.\"\n",
        "user_prompt = \"What should be the sleep routine for newborn babies?\"\n",
        "full_prompt = f\"{system_prompt}\\n{user_prompt}\"\n",
        "\n",
        "\n",
        "inputs = tokenizer(full_prompt, return_tensors=\"pt\", padding=True, truncation=True).to(\"cuda\")\n",
        "input_ids = inputs[\"input_ids\"]\n",
        "attention_mask = inputs[\"attention_mask\"]\n",
        "\n",
        "output_ids = fine_tuned_model.generate(\n",
        "    input_ids,\n",
        "    attention_mask=attention_mask,  # Attention mask'i burada ekledik\n",
        "    max_length=150,\n",
        "    temperature=0.7,\n",
        "    do_sample=True,\n",
        "    top_k=50,\n",
        "    top_p=0.95,\n",
        ")\n",
        "output_text = tokenizer.decode(output_ids[0], skip_special_tokens=True)\n",
        "print(output_text)"
      ],
      "metadata": {
        "id": "44vobGR_ykcI"
      },
      "execution_count": null,
      "outputs": []
    },
    {
      "cell_type": "code",
      "source": [
        "# Chat mesajları (elle prompt olarak yazılacak)\n",
        "system_prompt = \"You are a medical chat bot. Keep your answers clear and concise. Respond in English.\"\n",
        "user_prompt = \"What should be the sleep routine for newborn babies?\"\n",
        "\n",
        "# LLaMA 3.1'e uygun prompt formatı:\n",
        "prompt = f\"<|begin_of_text|><|start_header_id|>system<|end_header_id|>\\n{system_prompt}\\n<|start_header_id|>user<|end_header_id|>\\n{user_prompt}\\n<|start_header_id|>assistant<|end_header_id|>\\n\"\n",
        "\n",
        "# Tokenization\n",
        "inputs = tokenizer(prompt, return_tensors=\"pt\").to(\"cuda\")\n",
        "\n",
        "# Generate\n",
        "outputs = fine_tuned_model.generate(\n",
        "    **inputs,\n",
        "    max_new_tokens=712,\n",
        "    temperature=0.7,\n",
        "    do_sample=True,\n",
        "    top_k=50,\n",
        "    top_p=0.95,\n",
        "    eos_token_id=tokenizer.eos_token_id\n",
        ")\n",
        "\n",
        "# Cevabı ayıkla\n",
        "output_text = tokenizer.decode(outputs[0], skip_special_tokens=False)\n",
        "response = output_text.split(\"<|start_header_id|>assistant<|end_header_id|>\\n\")[-1]\n",
        "response = response.split(\"<|end_of_text|>\")[0].strip()\n",
        "print(response)"
      ],
      "metadata": {
        "id": "PHLJRHk22mm3"
      },
      "execution_count": null,
      "outputs": []
    },
    {
      "cell_type": "code",
      "source": [
        "print(tokenizer.eos_token_id)\n",
        "print(tokenizer.decode([tokenizer.eos_token_id]))"
      ],
      "metadata": {
        "id": "38x7tLlh55j4"
      },
      "execution_count": null,
      "outputs": []
    }
  ]
}